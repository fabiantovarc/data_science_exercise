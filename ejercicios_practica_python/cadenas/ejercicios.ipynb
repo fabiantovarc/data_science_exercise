{
 "cells": [
  {
   "cell_type": "markdown",
   "source": [
    "Ejercicio 2\r\n",
    "Escribir un programa que pregunte el nombre completo del usuario en la consola y después muestre por pantalla el nombre completo del usuario tres veces, una con todas las letras minúsculas, otra con todas las letras mayúsculas y otra solo con la primera letra del nombre y de los apellidos en mayúscula. El usuario puede introducir su nombre combinando mayúsculas y minúsculas como quiera."
   ],
   "metadata": {}
  },
  {
   "cell_type": "code",
   "execution_count": 8,
   "source": [
    "def run():\r\n",
    "    nombres = str(input(\"ingrese el nombre:\"))\r\n",
    "\r\n",
    "    print((nombres + \"\\n\") * int(3))\r\n",
    "\r\n",
    "if __name__ == '__main__':\r\n",
    "    run()"
   ],
   "outputs": [
    {
     "output_type": "stream",
     "name": "stdout",
     "text": [
      "\n",
      "\n",
      "\n",
      "\n"
     ]
    }
   ],
   "metadata": {}
  }
 ],
 "metadata": {
  "orig_nbformat": 4,
  "language_info": {
   "name": "python",
   "version": "3.8.8",
   "mimetype": "text/x-python",
   "codemirror_mode": {
    "name": "ipython",
    "version": 3
   },
   "pygments_lexer": "ipython3",
   "nbconvert_exporter": "python",
   "file_extension": ".py"
  },
  "kernelspec": {
   "name": "python3",
   "display_name": "Python 3.8.8 64-bit ('base': conda)"
  },
  "interpreter": {
   "hash": "96d30bcf7e220e5f1499b27ed4f5c3271c4055fc0bcf1558bd7e760f051a8bc0"
  }
 },
 "nbformat": 4,
 "nbformat_minor": 2
}