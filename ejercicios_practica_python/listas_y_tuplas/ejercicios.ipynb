{
 "cells": [
  {
   "cell_type": "code",
   "execution_count": 6,
   "metadata": {},
   "outputs": [
    {
     "data": {
      "text/plain": [
       "array([21.85171573, 20.97505669, 21.75028214, 24.7473475 , 21.44127836])"
      ]
     },
     "execution_count": 6,
     "metadata": {},
     "output_type": "execute_result"
    }
   ],
   "source": [
    "import numpy as np\n",
    "height = [1.73, 1.68, 1.71, 1.89, 1.79]\n",
    "weight = [65.4, 59.2, 63.6, 88.4, 68.7]\n",
    "\n",
    "np_height = np.array(height)\n",
    "np_weight = np.array(weight)\n",
    "np_weight / np_height ** 2"
   ]
  },
  {
   "cell_type": "code",
   "execution_count": 1,
   "metadata": {},
   "outputs": [
    {
     "name": "stdout",
     "output_type": "stream",
     "text": [
      " yo estudio Matemáticas y mi puntaje es 4.4\n",
      " yo estudio Física y mi puntaje es 5.0\n",
      " yo estudio Química y mi puntaje es 3.8\n",
      " yo estudio Historia y mi puntaje es 3.5\n",
      " yo estudio Lenguaje y mi puntaje es 3.9\n"
     ]
    }
   ],
   "source": [
    "\"\"\"ejercicio 1\n",
    "Escribir un programa que almacene las asignaturas de un curso (por ejemplo Matemáticas, Física, Química, Historia y Lengua) \n",
    "en una lista y la muestre por pantalla.\"\"\"\n",
    "\"\"\"ejercicio 2\n",
    "scribir un programa que almacene las asignaturas de un curso (por ejemplo Matemáticas, Física, Química, Historia y Lengua) \n",
    "en una lista y la muestre por pantalla el mensaje Yo estudio <asignatura>, donde <asignatura> es cada una de las asignaturas de la lista.\n",
    "\"\"\"\n",
    "\"\"\"ejercicio 3\n",
    "Escribir un programa que almacene las asignaturas de un curso (por ejemplo Matemáticas, Física, Química, Historia y Lengua) en una lista, \n",
    "pregunte al usuario la nota que ha sacado en cada asignatura, y \n",
    "después las muestre por pantalla con el mensaje En <asignatura> has sacado <nota> donde <asignatura> es cada una des las asignaturas \n",
    "de la lista y <nota> cada una de las correspondientes notas introducidas por el usuario.\n",
    "\"\"\"\n",
    "def run():\n",
    "    my_dict = {\"Matemáticas\": 4.4, \"Física\": 5.0, \"Química\": 3.8, \"Historia\": 3.5, \"Lenguaje\": 3.9}\n",
    "    for i,v in my_dict.items():\n",
    "        print(f\" yo estudio {i} y mi puntaje es {v}\")\n",
    "if __name__ == '__main__':\n",
    "    run()"
   ]
  },
  {
   "cell_type": "code",
   "execution_count": 7,
   "metadata": {},
   "outputs": [
    {
     "name": "stdout",
     "output_type": "stream",
     "text": [
      "10, 9, 8, 7, 6, 5, 4, 3, 2, 1, \n"
     ]
    }
   ],
   "source": [
    "\"\"\"\n",
    "ejercicio 5\n",
    "Escribir un programa que almacene en una lista los números del 1 al 10 y los muestre por pantalla en orden inverso separados por comas.\n",
    "\"\"\"\n",
    "def run():\n",
    "    list  = [1,2,3,4,5,6,7,8,9,10]\n",
    "    list.reverse()\n",
    "    for i in range(len(list)):\n",
    "        print(list[i], end=', ')\n",
    "    print()\n",
    "\n",
    "if __name__ == '__main__':\n",
    "    run()"
   ]
  }
 ],
 "metadata": {
  "interpreter": {
   "hash": "96d30bcf7e220e5f1499b27ed4f5c3271c4055fc0bcf1558bd7e760f051a8bc0"
  },
  "kernelspec": {
   "display_name": "Python 3.8.8 64-bit ('base': conda)",
   "language": "python",
   "name": "python3"
  },
  "language_info": {
   "codemirror_mode": {
    "name": "ipython",
    "version": 3
   },
   "file_extension": ".py",
   "mimetype": "text/x-python",
   "name": "python",
   "nbconvert_exporter": "python",
   "pygments_lexer": "ipython3",
   "version": "3.8.8"
  },
  "orig_nbformat": 4
 },
 "nbformat": 4,
 "nbformat_minor": 2
}
