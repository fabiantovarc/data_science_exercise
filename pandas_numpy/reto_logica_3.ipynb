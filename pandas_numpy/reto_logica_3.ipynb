{
 "cells": [
  {
   "cell_type": "code",
   "execution_count": 20,
   "metadata": {},
   "outputs": [],
   "source": [
    "import numpy as np\n",
    "#from math import dist\n",
    "from math import sqrt\n",
    "import pandas as pd\n"
   ]
  },
  {
   "cell_type": "code",
   "execution_count": 4,
   "metadata": {},
   "outputs": [
    {
     "name": "stdout",
     "output_type": "stream",
     "text": [
      "<class 'numpy.ndarray'>\n",
      "[[ 0 11]\n",
      " [-7  1]\n",
      " [-5 -3]]\n",
      "\n",
      "\n",
      " a = \n",
      " [[ 0]\n",
      " [-7]\n",
      " [-5]] \n",
      " b = \n",
      " [[11]\n",
      " [ 1]\n",
      " [-3]]\n",
      "13.74772708486752\n"
     ]
    }
   ],
   "source": [
    "p = [[0,11], [-7,1], [-5,-3]]\n",
    "\n",
    "p = np.array(p)\n",
    "print(type(p))\n",
    "\n",
    "a = np.array(p[0:,0:1])\n",
    "b = np.array(p[0:,1:2])\n",
    "\n",
    "print(p)\n",
    "print(f\"\\n\")\n",
    "#print(a)\n",
    "\n",
    "#a.append(p[0][0])\n",
    "#a.append(p[1][0])\n",
    "#a.append(p[2][0])\n",
    "#b.append(p[0][1])\n",
    "#b.append(p[1][1])\n",
    "#b.append(p[2][1])  \n",
    "\n",
    "#a = np.array(a)\n",
    "#b = np.array(b)\n",
    "\n",
    "#def distancia_euclidiana_3d(a, b):\n",
    "#    distancia =sqrt(sum([ (a-b) ** 2 for a,b in zip(a, b)] ))\n",
    "#    return distancia\n",
    "\n",
    "print (f' a = \\n {a} \\n b = \\n {b}')\n",
    "#resultado = distancia_euclidiana_3d(a,b)\n",
    "#print(resultado)\n",
    "\n",
    "#dit = np.sqrt(np.sum(np.square(a - b)))\n",
    "#print(dit)\n",
    "dist =np.linalg.norm(a-b)\n",
    "print(dist)"
   ]
  },
  {
   "cell_type": "code",
   "execution_count": 5,
   "metadata": {},
   "outputs": [
    {
     "name": "stdout",
     "output_type": "stream",
     "text": [
      "[[ 0 11]\n",
      " [-7  1]\n",
      " [-5 -3]]\n",
      "\n",
      "\n",
      "a: [ 0 -7 -5]  b: [11  1 -3]\n",
      "13.74772708486752\n"
     ]
    }
   ],
   "source": [
    "p = [[0,11], [-7,1], [-5,-3]] \n",
    "p = np.array(p)\n",
    "c = p.copy() # se copia el array a otra variable, sino se hace esto, se modifica el array original\n",
    "c = np.array(c)\n",
    "\n",
    "a = np.array(c[0:,0:1])\n",
    "b = np.array(c[0:,1:2])\n",
    "a = np.squeeze(a) # quita la dimension de una matriz\n",
    "b = np.squeeze(b) # arreta la dimension de una matriz\n",
    "print(c)\n",
    "print(f\"\\n\")\n",
    "\n",
    "print (f'a: {a}  b: {b}')\n",
    "\n",
    "dist =np.linalg.norm(a-b)\n",
    "print(dist)"
   ]
  },
  {
   "cell_type": "code",
   "execution_count": 6,
   "metadata": {},
   "outputs": [
    {
     "name": "stdout",
     "output_type": "stream",
     "text": [
      "[ 1  2  3  4  5  6  7  8  9 10]\n"
     ]
    }
   ],
   "source": [
    "arr = np.linspace(1,10,10, dtype= 'int8')\n",
    "print(arr)"
   ]
  },
  {
   "cell_type": "code",
   "execution_count": 7,
   "metadata": {},
   "outputs": [
    {
     "data": {
      "text/plain": [
       "array([False, False, False, False, False,  True,  True,  True,  True,\n",
       "        True])"
      ]
     },
     "execution_count": 7,
     "metadata": {},
     "output_type": "execute_result"
    }
   ],
   "source": [
    "lvariable = arr > 5\n",
    "lvariable"
   ]
  },
  {
   "cell_type": "code",
   "execution_count": 8,
   "metadata": {},
   "outputs": [
    {
     "data": {
      "text/plain": [
       "array([ 6,  7,  8,  9, 10], dtype=int8)"
      ]
     },
     "execution_count": 8,
     "metadata": {},
     "output_type": "execute_result"
    }
   ],
   "source": [
    "arr[lvariable]"
   ]
  },
  {
   "cell_type": "code",
   "execution_count": 9,
   "metadata": {},
   "outputs": [
    {
     "data": {
      "text/plain": [
       "array([6, 7, 8], dtype=int8)"
      ]
     },
     "execution_count": 9,
     "metadata": {},
     "output_type": "execute_result"
    }
   ],
   "source": [
    "arr[(arr > 5) & (arr<9)] #akt 38 &"
   ]
  },
  {
   "cell_type": "code",
   "execution_count": 10,
   "metadata": {},
   "outputs": [
    {
     "name": "stdout",
     "output_type": "stream",
     "text": [
      "1dfg1cba\n",
      "1dfg11\n",
      "3\n"
     ]
    }
   ],
   "source": [
    "array_a = ('abcdfgabccba')\n",
    "letras = ('abc')\n",
    "letras_1 = ('cba')\n",
    "contador = 0\n",
    "\n",
    "lista = array_a.replace(letras, \"1\") #reemplaza el conjunto de letras abc por 1\n",
    "print(lista)\n",
    "lista = lista.replace(letras_1, \"1\") #reemplaza el conjunto de letras cba por 1\n",
    "print(lista)\n",
    "count = lista.count('1') #cuenta las veces que aparece 1\n",
    "print(count)# imprime la suma de las veces que aparece 1\n",
    "\n",
    "       "
   ]
  },
  {
   "cell_type": "code",
   "execution_count": 15,
   "metadata": {},
   "outputs": [
    {
     "name": "stdout",
     "output_type": "stream",
     "text": [
      "2\n"
     ]
    }
   ],
   "source": [
    "ay = np.array([[1,2,3,4],[4,5,6],[7,8,9]]).ndim\n",
    "\n",
    "print(ay)"
   ]
  },
  {
   "cell_type": "code",
   "execution_count": 25,
   "metadata": {},
   "outputs": [
    {
     "name": "stdout",
     "output_type": "stream",
     "text": [
      "[ 0.          0.1010101   0.2020202   0.3030303   0.4040404   0.50505051\n",
      "  0.60606061  0.70707071  0.80808081  0.90909091  1.01010101  1.11111111\n",
      "  1.21212121  1.31313131  1.41414141  1.51515152  1.61616162  1.71717172\n",
      "  1.81818182  1.91919192  2.02020202  2.12121212  2.22222222  2.32323232\n",
      "  2.42424242  2.52525253  2.62626263  2.72727273  2.82828283  2.92929293\n",
      "  3.03030303  3.13131313  3.23232323  3.33333333  3.43434343  3.53535354\n",
      "  3.63636364  3.73737374  3.83838384  3.93939394  4.04040404  4.14141414\n",
      "  4.24242424  4.34343434  4.44444444  4.54545455  4.64646465  4.74747475\n",
      "  4.84848485  4.94949495  5.05050505  5.15151515  5.25252525  5.35353535\n",
      "  5.45454545  5.55555556  5.65656566  5.75757576  5.85858586  5.95959596\n",
      "  6.06060606  6.16161616  6.26262626  6.36363636  6.46464646  6.56565657\n",
      "  6.66666667  6.76767677  6.86868687  6.96969697  7.07070707  7.17171717\n",
      "  7.27272727  7.37373737  7.47474747  7.57575758  7.67676768  7.77777778\n",
      "  7.87878788  7.97979798  8.08080808  8.18181818  8.28282828  8.38383838\n",
      "  8.48484848  8.58585859  8.68686869  8.78787879  8.88888889  8.98989899\n",
      "  9.09090909  9.19191919  9.29292929  9.39393939  9.49494949  9.5959596\n",
      "  9.6969697   9.7979798   9.8989899  10.        ]\n"
     ]
    }
   ],
   "source": [
    "z = np.linspace(0,10,100)\n",
    "print(z)"
   ]
  },
  {
   "cell_type": "code",
   "execution_count": 30,
   "metadata": {},
   "outputs": [
    {
     "name": "stdout",
     "output_type": "stream",
     "text": [
      "[ 3  3  5  6  6 10 13]\n"
     ]
    },
    {
     "ename": "AttributeError",
     "evalue": "module 'pandas' has no attribute 'del_duplicates'",
     "output_type": "error",
     "traceback": [
      "\u001b[1;31m---------------------------------------------------------------------------\u001b[0m",
      "\u001b[1;31mAttributeError\u001b[0m                            Traceback (most recent call last)",
      "\u001b[1;32mc:\\Users\\rexcu\\OneDrive\\Documentos\\Python_exercises\\pandas_numpy\\reto_logica_3.ipynb Cell 11'\u001b[0m in \u001b[0;36m<cell line: 4>\u001b[1;34m()\u001b[0m\n\u001b[0;32m      <a href='vscode-notebook-cell:/c%3A/Users/rexcu/OneDrive/Documentos/Python_exercises/pandas_numpy/reto_logica_3.ipynb#ch0000010?line=1'>2</a>\u001b[0m arr \u001b[39m=\u001b[39m np\u001b[39m.\u001b[39msort(arr)\n\u001b[0;32m      <a href='vscode-notebook-cell:/c%3A/Users/rexcu/OneDrive/Documentos/Python_exercises/pandas_numpy/reto_logica_3.ipynb#ch0000010?line=2'>3</a>\u001b[0m \u001b[39mprint\u001b[39m(arr)\n\u001b[1;32m----> <a href='vscode-notebook-cell:/c%3A/Users/rexcu/OneDrive/Documentos/Python_exercises/pandas_numpy/reto_logica_3.ipynb#ch0000010?line=3'>4</a>\u001b[0m arr \u001b[39m=\u001b[39m pd\u001b[39m.\u001b[39;49mdel_duplicates(arr)\n\u001b[0;32m      <a href='vscode-notebook-cell:/c%3A/Users/rexcu/OneDrive/Documentos/Python_exercises/pandas_numpy/reto_logica_3.ipynb#ch0000010?line=4'>5</a>\u001b[0m \u001b[39mprint\u001b[39m(arr)\n",
      "File \u001b[1;32mc:\\Users\\rexcu\\OneDrive\\Documentos\\Python_exercises\\pandas_numpy\\venv\\lib\\site-packages\\pandas\\__init__.py:261\u001b[0m, in \u001b[0;36m__getattr__\u001b[1;34m(name)\u001b[0m\n\u001b[0;32m    <a href='file:///c%3A/Users/rexcu/OneDrive/Documentos/Python_exercises/pandas_numpy/venv/lib/site-packages/pandas/__init__.py?line=256'>257</a>\u001b[0m     \u001b[39mfrom\u001b[39;00m \u001b[39mpandas\u001b[39;00m\u001b[39m.\u001b[39;00m\u001b[39mcore\u001b[39;00m\u001b[39m.\u001b[39;00m\u001b[39marrays\u001b[39;00m\u001b[39m.\u001b[39;00m\u001b[39msparse\u001b[39;00m \u001b[39mimport\u001b[39;00m SparseArray \u001b[39mas\u001b[39;00m _SparseArray\n\u001b[0;32m    <a href='file:///c%3A/Users/rexcu/OneDrive/Documentos/Python_exercises/pandas_numpy/venv/lib/site-packages/pandas/__init__.py?line=258'>259</a>\u001b[0m     \u001b[39mreturn\u001b[39;00m _SparseArray\n\u001b[1;32m--> <a href='file:///c%3A/Users/rexcu/OneDrive/Documentos/Python_exercises/pandas_numpy/venv/lib/site-packages/pandas/__init__.py?line=260'>261</a>\u001b[0m \u001b[39mraise\u001b[39;00m \u001b[39mAttributeError\u001b[39;00m(\u001b[39mf\u001b[39m\u001b[39m\"\u001b[39m\u001b[39mmodule \u001b[39m\u001b[39m'\u001b[39m\u001b[39mpandas\u001b[39m\u001b[39m'\u001b[39m\u001b[39m has no attribute \u001b[39m\u001b[39m'\u001b[39m\u001b[39m{\u001b[39;00mname\u001b[39m}\u001b[39;00m\u001b[39m'\u001b[39m\u001b[39m\"\u001b[39m)\n",
      "\u001b[1;31mAttributeError\u001b[0m: module 'pandas' has no attribute 'del_duplicates'"
     ]
    }
   ],
   "source": []
  },
  {
   "cell_type": "code",
   "execution_count": null,
   "metadata": {},
   "outputs": [],
   "source": []
  }
 ],
 "metadata": {
  "interpreter": {
   "hash": "b65ed2c0c496d9d1ad8dbf692a9bc5ea284febd1027d2de7e780fdb9e6f9da3d"
  },
  "kernelspec": {
   "display_name": "Python 3.10.1 ('venv': venv)",
   "language": "python",
   "name": "python3"
  },
  "language_info": {
   "codemirror_mode": {
    "name": "ipython",
    "version": 3
   },
   "file_extension": ".py",
   "mimetype": "text/x-python",
   "name": "python",
   "nbconvert_exporter": "python",
   "pygments_lexer": "ipython3",
   "version": "3.10.1"
  },
  "orig_nbformat": 4
 },
 "nbformat": 4,
 "nbformat_minor": 2
}
