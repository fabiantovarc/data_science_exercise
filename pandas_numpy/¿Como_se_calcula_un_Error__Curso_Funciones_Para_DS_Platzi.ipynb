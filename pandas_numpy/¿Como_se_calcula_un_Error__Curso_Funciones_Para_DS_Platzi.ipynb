{
  "cells": [
    {
      "cell_type": "code",
      "execution_count": 1,
      "metadata": {
        "id": "pYeAuMllH0Yh"
      },
      "outputs": [],
      "source": [
        "import matplotlib.pyplot as plt"
      ]
    },
    {
      "cell_type": "code",
      "execution_count": 2,
      "metadata": {
        "id": "gLmYPSBhH1mK"
      },
      "outputs": [],
      "source": [
        "x=[1.2, 2,3.2,2.5,5,6,4,8]\n",
        "y=[2,3,3.4,3.1,4,4.7,3.8,7]\n",
        "y_prima=[]"
      ]
    },
    {
      "cell_type": "markdown",
      "metadata": {},
      "source": [
        "##Calculo de la regresion Lineal\n",
        "\n",
        "Sabiendo que:\n",
        "$$f(x)=mx + b$$ donde $m$ y $b$  $\\in R$. \n",
        "\n",
        "entonces:"
      ]
    },
    {
      "cell_type": "code",
      "execution_count": 19,
      "metadata": {
        "id": "YLag63jYP-JW"
      },
      "outputs": [
        {
          "name": "stdout",
          "output_type": "stream",
          "text": [
            "2.4\n",
            "8.4\n",
            "19.28\n",
            "27.03\n",
            "47.03\n",
            "75.23\n",
            "90.43\n",
            "146.43\n",
            "146.43\n"
          ]
        }
      ],
      "source": [
        "def sum_xy(x,y):\n",
        "  xy=0\n",
        "  for i in range(len(x)): # aqui se hace la sumatoria de xy\n",
        "    xy+= x[i]*y[i] # es decir que  i = 0, x[i]*y[i] = 1.2*2 = 2.4 y luego i = 1, x[i]*y[i] = 2*3 = 6 y asi sucesivamente\n",
        "  return xy\n",
        "#imprimir la sumatoria de xy\n",
        "print(sum_xy(x,y))\n"
      ]
    },
    {
      "cell_type": "code",
      "execution_count": 4,
      "metadata": {
        "id": "iucMTHv3Qj0P"
      },
      "outputs": [],
      "source": [
        "def sum_x2(x):\n",
        "  x2=0\n",
        "  for i in range(len(x)):\n",
        "    x2+= x[i]**2 # aqui se hace la sumatoria de x2 = 1.2**2 + 2**2 + 3.2**2 + 2.5**2 + 5**2 + 6**2 + 4**2 + 8**2\n",
        "  return x2"
      ]
    },
    {
      "cell_type": "markdown",
      "metadata": {
        "id": "oUqya3alkdUy"
      },
      "source": [
        "## prendiente *m*\n"
      ]
    },
    {
      "cell_type": "code",
      "execution_count": 5,
      "metadata": {
        "id": "mVrHjs2dS2E3"
      },
      "outputs": [],
      "source": [
        "def calc_m(x,y):\n",
        "  numerador=len(x)*sum_xy(x,y)-(sum(x)*sum(y))\n",
        "  denominador=len(x)*sum_x2(x)-(sum(x))**2\n",
        "  return numerador/denominador"
      ]
    },
    {
      "cell_type": "markdown",
      "metadata": {
        "id": "n37GYl-ykiCR"
      },
      "source": [
        "## interseccion *b*"
      ]
    },
    {
      "cell_type": "code",
      "execution_count": 6,
      "metadata": {
        "id": "IEl_hz59VftP"
      },
      "outputs": [],
      "source": [
        "def calc_b(x,y):\n",
        "  m=calc_m(x,y)\n",
        "  y_prom=sum(y)/len(y)\n",
        "  x_prom=sum(x)/len(x)\n",
        "  return y_prom-(m*x_prom)\n"
      ]
    },
    {
      "cell_type": "markdown",
      "metadata": {
        "id": "AgiRrZ4Dkshx"
      },
      "source": [
        "## Funcion lineal"
      ]
    },
    {
      "cell_type": "code",
      "execution_count": 7,
      "metadata": {
        "id": "QvoDunkTWScR"
      },
      "outputs": [],
      "source": [
        "def f(x,m,b):\n",
        "  return m*x+b"
      ]
    },
    {
      "cell_type": "markdown",
      "metadata": {
        "id": "bfPrxu1fkzcZ"
      },
      "source": [
        "## Resultado de los valores de y'"
      ]
    },
    {
      "cell_type": "code",
      "execution_count": 8,
      "metadata": {
        "colab": {
          "base_uri": "https://localhost:8080/"
        },
        "id": "PYrk2QgHWnZP",
        "outputId": "401dade2-85df-4cf5-d4e0-62081ef00934"
      },
      "outputs": [
        {
          "name": "stdout",
          "output_type": "stream",
          "text": [
            "[2.09, 2.61, 3.37, 2.93, 4.52, 5.16, 3.88, 6.44]\n"
          ]
        }
      ],
      "source": [
        "m=calc_m(x,y)\n",
        "b=calc_b(x,y)\n",
        "\n",
        "for x_val in x:\n",
        "  y_prima.append(round(f(x_val,m,b),2))\n",
        "\n",
        "print(y_prima)"
      ]
    },
    {
      "cell_type": "markdown",
      "metadata": {
        "id": "eVHezqR9kGhW"
      },
      "source": [
        "# Grafico "
      ]
    },
    {
      "cell_type": "code",
      "execution_count": 20,
      "metadata": {
        "id": "sS5qbjfWQJjU"
      },
      "outputs": [],
      "source": [
        "#recta para graficar\n",
        "x_fig=[x for x in range(0,11)]\n",
        "y_fig=[]\n",
        "for val in x_fig:\n",
        "  y_fig.append(round(f(val,m,b),2))\n"
      ]
    },
    {
      "cell_type": "code",
      "execution_count": 10,
      "metadata": {
        "colab": {
          "base_uri": "https://localhost:8080/",
          "height": 269
        },
        "id": "PFrgnt5fcjBQ",
        "outputId": "0a1e61d2-82dc-46c2-8c96-d564af564a13"
      },
      "outputs": [
        {
          "name": "stderr",
          "output_type": "stream",
          "text": [
            "C:\\Users\\rexcu\\AppData\\Local\\Temp\\ipykernel_4112\\622456085.py:9: UserWarning: Matplotlib is currently using module://matplotlib_inline.backend_inline, which is a non-GUI backend, so cannot show the figure.\n",
            "  fig.show()\n"
          ]
        },
        {
          "data": {
            "image/png": "[encoded data removed]",
            "text/plain": [
              "<Figure size 432x288 with 1 Axes>"
            ]
          },
          "metadata": {
            "needs_background": "light"
          },
          "output_type": "display_data"
        }
      ],
      "source": [
        "\n",
        "fig,ax=plt.subplots()\n",
        "ax.plot(x_fig,y_fig, label='y\\'=mx+b')\n",
        "# ax.scatter(x,y_prima,color='g',label='y\\'')\n",
        "ax.scatter(x,y,color='r', label=\"y\")\n",
        "ax.set_ylim(0,8)\n",
        "ax.set_xlim(0,9)\n",
        "ax.grid()\n",
        "ax.legend(loc =\"lower right\")\n",
        "fig.show()"
      ]
    },
    {
      "cell_type": "markdown",
      "metadata": {
        "id": "lzOTMuzUk-Zy"
      },
      "source": [
        "# Error cuadratico medio ECM"
      ]
    },
    {
      "cell_type": "code",
      "execution_count": 11,
      "metadata": {
        "colab": {
          "base_uri": "https://localhost:8080/"
        },
        "id": "gJuzfbEBT2xE",
        "outputId": "624ed477-632e-478b-d07a-95ffea738573"
      },
      "outputs": [
        {
          "name": "stdout",
          "output_type": "stream",
          "text": [
            "[2, 3, 3.4, 3.1, 4, 4.7, 3.8, 7]\n",
            "[2.09, 2.61, 3.37, 2.93, 4.52, 5.16, 3.88, 6.44]\n"
          ]
        }
      ],
      "source": [
        "print(y)\n",
        "print(y_prima)"
      ]
    },
    {
      "cell_type": "code",
      "execution_count": 12,
      "metadata": {
        "id": "DhJoztdafYAa"
      },
      "outputs": [],
      "source": [
        "def calc_ecm(y,y_prima):\n",
        "  sum=0\n",
        "  for i in range(len(y)):\n",
        "    sum+=(y_prima[i]-y[i])**2\n",
        "  return sum/len(y)"
      ]
    },
    {
      "cell_type": "code",
      "execution_count": 13,
      "metadata": {
        "colab": {
          "base_uri": "https://localhost:8080/"
        },
        "id": "2kGDH6PqgtqJ",
        "outputId": "6f26707d-d320-45a4-9188-bf95622134dc"
      },
      "outputs": [
        {
          "name": "stdout",
          "output_type": "stream",
          "text": [
            "el error cuadratico medio es 0.12399999999999987\n"
          ]
        }
      ],
      "source": [
        "emc=calc_ecm(y,y_prima)\n",
        "print(f'el error cuadratico medio es {emc}' )"
      ]
    }
  ],
  "metadata": {
    "colab": {
      "name": "¿Como se calcula un Error?-Curso Funciones Para DS -Platzi.ipynb",
      "provenance": []
    },
    "kernelspec": {
      "display_name": "Python 3",
      "name": "python3"
    },
    "language_info": {
      "codemirror_mode": {
        "name": "ipython",
        "version": 3
      },
      "file_extension": ".py",
      "mimetype": "text/x-python",
      "name": "python",
      "nbconvert_exporter": "python",
      "pygments_lexer": "ipython3",
      "version": "3.10.1"
    }
  },
  "nbformat": 4,
  "nbformat_minor": 0
}
