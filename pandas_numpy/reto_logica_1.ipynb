{
 "cells": [
  {
   "cell_type": "markdown",
   "metadata": {},
   "source": [
    "sequence  = \"()[]{}\" =  True\n",
    "0<=len(sequence)<=10**6"
   ]
  },
  {
   "cell_type": "code",
   "execution_count": 4,
   "metadata": {},
   "outputs": [
    {
     "name": "stdout",
     "output_type": "stream",
     "text": [
      "{[]{()}} - True\n",
      "[{}{})(] - False\n",
      "((()]) - False\n"
     ]
    }
   ],
   "source": [
    "open_list = [\"[\",\"{\",\"(\"] \n",
    "close_list = [\"]\",\"}\",\")\"] \n",
    "  \n",
    "def check(myStr): \n",
    "    stack = [] \n",
    "    for i in myStr: \n",
    "        if i in open_list: #se comprueba si el caracter es una abertura\n",
    "            stack.append(i) #Una abertura se añade a la pila\n",
    "        elif i in close_list: #se comprueba si el caracter es una cierre\n",
    "            pos = close_list.index(i) #se obtiene la posicion del caracter en la lista de cierres\n",
    "            if ((len(stack) > 0) and (open_list[pos] == stack[len(stack)-1])): # Se opera  con el ultimo elemento de la pila y se compara con el caracter de cierre\n",
    "                stack.pop() #se elimina el ultimo elemento de la pila\n",
    "            else: \n",
    "                return \"False\"# si no se cumple la condicion se retorna false\n",
    "    if len(stack) == 0: #si la pila esta vacia se retorna true\n",
    "        return \"True\"\n",
    "    else: \n",
    "        return \"False\" # si no se cumple la condicion se retorna false\n",
    "string = \"{[]{()}}\"\n",
    "print(string,\"-\", check(string))  \n",
    "  \n",
    "string = \"[{}{})(]\"\n",
    "print(string,\"-\", check(string)) \n",
    "  \n",
    "string = \"((()])\"\n",
    "print(string,\"-\",check(string)) "
   ]
  }
 ],
 "metadata": {
  "interpreter": {
   "hash": "b65ed2c0c496d9d1ad8dbf692a9bc5ea284febd1027d2de7e780fdb9e6f9da3d"
  },
  "kernelspec": {
   "display_name": "Python 3.10.1 ('venv': venv)",
   "language": "python",
   "name": "python3"
  },
  "language_info": {
   "codemirror_mode": {
    "name": "ipython",
    "version": 3
   },
   "file_extension": ".py",
   "mimetype": "text/x-python",
   "name": "python",
   "nbconvert_exporter": "python",
   "pygments_lexer": "ipython3",
   "version": "3.10.1"
  },
  "orig_nbformat": 4
 },
 "nbformat": 4,
 "nbformat_minor": 2
}
