{
 "cells": [
  {
   "cell_type": "markdown",
   "metadata": {},
   "source": [
    "-variable (a) contiene una secencia de letras = abc.\n",
    "-variable (b) intenta varia esa secuencia  = abccba la cual contiene = 2 veces la letra abc organizada de distintas maneras.\n",
    "entonces (a) = ab y (b) = abcbcb = 1 ya que solo contiene una secuencia de letras = ab "
   ]
  },
  {
   "cell_type": "code",
   "execution_count": null,
   "metadata": {},
   "outputs": [],
   "source": [
    "list_A = []\n",
    "list_B = []\n",
    "\n",
    "def check(myStr):\n",
    "    for i in myStr:\n",
    "        if i (len(list_A)) == 0:\n",
    "            while False:\n",
    "                print(\"No contiene elementos\")\n",
    "                break\n",
    "    elif"
   ]
  }
 ],
 "metadata": {
  "interpreter": {
   "hash": "b65ed2c0c496d9d1ad8dbf692a9bc5ea284febd1027d2de7e780fdb9e6f9da3d"
  },
  "kernelspec": {
   "display_name": "Python 3.10.1 ('venv': venv)",
   "language": "python",
   "name": "python3"
  },
  "language_info": {
   "name": "python",
   "version": "3.10.1"
  },
  "orig_nbformat": 4
 },
 "nbformat": 4,
 "nbformat_minor": 2
}
